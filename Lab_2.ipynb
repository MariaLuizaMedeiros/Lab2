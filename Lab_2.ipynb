{
  "nbformat": 4,
  "nbformat_minor": 0,
  "metadata": {
    "colab": {
      "provenance": []
    },
    "kernelspec": {
      "name": "python3",
      "display_name": "Python 3"
    },
    "language_info": {
      "name": "python"
    }
  },
  "cells": [
    {
      "cell_type": "markdown",
      "source": [
        "# Lab 2 - Implementado pela aluna Maria Luiza Galdino Medeiros (123110614)"
      ],
      "metadata": {
        "id": "RRyrbDNFi-lO"
      }
    },
    {
      "cell_type": "markdown",
      "source": [
        "# Parte 2:"
      ],
      "metadata": {
        "id": "A0FA19zoisQp"
      }
    },
    {
      "cell_type": "code",
      "execution_count": 6,
      "metadata": {
        "id": "U1oUZQAdh3bO"
      },
      "outputs": [],
      "source": [
        "def xor_bits(a, b):\n",
        "    \"\"\"\n",
        "    Realiza a operação de XOR bit a bit entre duas strings binárias de mesmo comprimento.\n",
        "    \"\"\"\n",
        "    resultado = \"\"\n",
        "    for i in range(len(a)):\n",
        "        if a[i] == b[i]:\n",
        "            resultado += '0'\n",
        "        else:\n",
        "            resultado += '1'\n",
        "    return resultado\n",
        "\n",
        "\n",
        "def calcular_crc_manual(dados_bits: str, gerador_bits: str) -> str:\n",
        "    \"\"\"\n",
        "    Calcula o CRC para uma sequência de dados M(x) usando um gerador G(x).\n",
        "\n",
        "    Args:\n",
        "        dados_bits: A string binária representando o polinômio da mensagem, M(x).\n",
        "        gerador_bits: A string binária representando o polinâmio gerador, G(x).\n",
        "\n",
        "    Returns:\n",
        "        A string binária de r bits representando o CRC.\n",
        "    \"\"\"\n",
        "    # 1. Obtenha o grau 'r' do gerador.\n",
        "    #    Lembre-se que um gerador de n bits representa um polinômio de grau n-1.\n",
        "    r = len(gerador_bits) - 1\n",
        "\n",
        "    # 2. Crie T(x)=  M(x) * 2^r, que é a mensagem com 'r' zeros anexados.\n",
        "    mensagem_aumentada = list(dados_bits + '0' * r)\n",
        "\n",
        "    # 3. Implemente o loop de divisão.\n",
        "    #    Percorra os bit original da mensagem (em uma janela), da esquerda para a direita.\n",
        "    for i in range(len(dados_bits)):\n",
        "        # Se o bit mais significativo da 'janela' atual for '1', realize o XOR.\n",
        "        # - considere a janela atual como os próximos r+1 bits. (para pode dividir o por G(x))\n",
        "        if mensagem_aumentada[i] == '1':\n",
        "            # The window starts at the current index 'i' and has a length of r + 1\n",
        "            janela_atual = \"\".join(mensagem_aumentada[i : i + r + 1])\n",
        "            resultado_xor = xor_bits(janela_atual, gerador_bits)\n",
        "\n",
        "            # Atualize a mensagem com o resultado do XOR.\n",
        "            # - Substitua os bits correspondentes na mensagem pela saída do XOR,\n",
        "            #          ignorando o primeiro bit (que já foi processado).\n",
        "            for j in range(len(resultado_xor)):\n",
        "                mensagem_aumentada[i + j + 1] = resultado_xor[j]\n",
        "\n",
        "    # 4. O resto da divisão são os 'r' bits finais da mensagem processada.\n",
        "    resto = \"\".join(mensagem_aumentada[-r:])\n",
        "    return resto"
      ]
    },
    {
      "cell_type": "code",
      "source": [
        "# Exemplo de uso para validação\n",
        "dados_teste = \"1101011111\"  # M(x)\n",
        "gerador_teste = \"10011\"    # G(x)\n",
        "crc_calculado = calcular_crc_manual(dados_teste, gerador_teste)\n",
        "\n",
        "print(f\"Dados M(x): {dados_teste}\")\n",
        "print(f\"Gerador G(x): {gerador_teste}\")\n",
        "print(f\"CRC Calculado: {crc_calculado}\")\n",
        "# Quadro T(x) a ser transmitido: dados_teste + crc_calculado"
      ],
      "metadata": {
        "colab": {
          "base_uri": "https://localhost:8080/",
          "height": 0
        },
        "id": "lxjbQaY7joXU",
        "outputId": "f160ce09-f19a-410c-9783-51209cdaa9c3"
      },
      "execution_count": 9,
      "outputs": [
        {
          "output_type": "stream",
          "name": "stdout",
          "text": [
            "Dados M(x): 1101011111\n",
            "Gerador G(x): 10011\n",
            "CRC Calculado: 1011\n"
          ]
        }
      ]
    },
    {
      "cell_type": "markdown",
      "source": [
        "# Parte 3:"
      ],
      "metadata": {
        "id": "jJd5IGqplIS8"
      }
    },
    {
      "cell_type": "markdown",
      "source": [
        "Descrição da máquina que executou o código:\n",
        "\n",
        "Modelo Dell Inspiron 3583 com Windows 11 Home Single Language (64 bits), processador Intel Core i3 de 8ª geração (1.6 GHz, 2 núcleos), 8 GB de RAM (1.1 GB disponível no momento) e alta dependência de memória virtual (~12.8 GB em uso). BIOS Dell 1.30.0 (abril de 2024), conectividade via Wi-Fi Intel AC 9462, Ethernet Realtek e adaptador VirtualBox. Virtualização habilitada com Hyper-V disponível, porém segurança baseada em virtualização está desativada.\n",
        "\n",
        "-- > Descrição obtida ao executar a linha *systeminfo* no terminal\n"
      ],
      "metadata": {
        "id": "i3oBwm4Glk2_"
      }
    },
    {
      "cell_type": "code",
      "source": [
        "pip install crc"
      ],
      "metadata": {
        "colab": {
          "base_uri": "https://localhost:8080/",
          "height": 0
        },
        "id": "80w9T56ylJ-G",
        "outputId": "c7f25f24-d6a3-42f8-e176-a55b4032f929"
      },
      "execution_count": 10,
      "outputs": [
        {
          "output_type": "stream",
          "name": "stdout",
          "text": [
            "Collecting crc\n",
            "  Downloading crc-7.1.0-py3-none-any.whl.metadata (6.0 kB)\n",
            "Downloading crc-7.1.0-py3-none-any.whl (8.8 kB)\n",
            "Installing collected packages: crc\n",
            "Successfully installed crc-7.1.0\n"
          ]
        }
      ]
    },
    {
      "cell_type": "code",
      "source": [
        "import time\n",
        "import tracemalloc\n",
        "import os\n",
        "from crc import Calculator, Crc16\n",
        "\n",
        "# --- Insira sua função calcular_crc_manual e xor_bits aqui ---\n",
        "\n",
        " # Usando um padrão de 16 bits como referência\n",
        "calculator_lib = Calculator(Crc16.MODBUS)\n",
        "\n",
        "# Tamanhos de mensagem para teste (em bytes)\n",
        "tamanhos_bytes = [1500, 3000 , 6000 , 16000]\n",
        "\n",
        "resultados = []\n",
        "\n",
        "for tamanho in tamanhos_bytes:\n",
        "    print(f\"Analisando para mensagem de {tamanho} bytes...\")\n",
        "    # Gere uma mensagem aleatória de bits\n",
        "    mensagem_bytes = os.urandom(tamanho)\n",
        "    mensagem_bits = \"\".join(format(byte, '08b') for byte in mensagem_bytes)\n",
        "\n",
        "    # Medição da nossa Implementação\n",
        "    tracemalloc.start()\n",
        "    start_time = time.perf_counter()\n",
        "\n",
        "    crc_manual = calcular_crc_manual(mensagem_bits, \"11000000000000101\") # G(x) do CRC-16/MODBUS\n",
        "\n",
        "    end_time = time.perf_counter()\n",
        "    mem_atual_manual, mem_pico_manual = tracemalloc.get_traced_memory()\n",
        "    tracemalloc.stop()\n",
        "\n",
        "    tempo_manual = end_time - start_time\n",
        "\n",
        "    # Medição da Biblioteca\n",
        "    tracemalloc.start()\n",
        "    start_time = time.perf_counter()\n",
        "\n",
        "    crc_lib = calculator_lib.checksum(mensagem_bytes)\n",
        "\n",
        "    end_time = time.perf_counter()\n",
        "    mem_atual_lib, mem_pico_lib = tracemalloc.get_traced_memory()\n",
        "    tracemalloc.stop()\n",
        "\n",
        "    tempo_lib = end_time - start_time\n",
        "\n",
        "    # Armazene os resultados\n",
        "    resultados.append({\n",
        "        \"tamanho\": tamanho,\n",
        "        \"tempo_manual\": tempo_manual,\n",
        "        \"mem_pico_manual\": mem_pico_manual / 1024, # em KiB\n",
        "        \"tempo_lib\": tempo_lib,\n",
        "        \"mem_pico_lib\": mem_pico_lib / 1024 # em KiB\n",
        "    })\n",
        "\n",
        "print(\"--- Resultados Finais ---\")\n",
        "print(resultados)"
      ],
      "metadata": {
        "colab": {
          "base_uri": "https://localhost:8080/",
          "height": 0
        },
        "id": "qUjJs262lXVV",
        "outputId": "0452cbba-eacd-435a-c484-ea6d9af22879"
      },
      "execution_count": 11,
      "outputs": [
        {
          "output_type": "stream",
          "name": "stdout",
          "text": [
            "Analisando para mensagem de 1500 bytes...\n",
            "Analisando para mensagem de 3000 bytes...\n",
            "Analisando para mensagem de 6000 bytes...\n",
            "Analisando para mensagem de 16000 bytes...\n",
            "--- Resultados Finais ---\n",
            "[{'tamanho': 1500, 'tempo_manual': 0.2908449210001436, 'mem_pico_manual': 105.7587890625, 'tempo_lib': 0.08997906999979932, 'mem_pico_lib': 69.7421875}, {'tamanho': 3000, 'tempo_manual': 0.568084810000073, 'mem_pico_manual': 211.2275390625, 'tempo_lib': 0.13898194900002636, 'mem_pico_lib': 1.625}, {'tamanho': 6000, 'tempo_manual': 1.1817625870000938, 'mem_pico_manual': 422.1650390625, 'tempo_lib': 0.2916615560000082, 'mem_pico_lib': 5.015625}, {'tamanho': 16000, 'tempo_manual': 3.170205424999949, 'mem_pico_manual': 1125.2900390625, 'tempo_lib': 1.1145129369999722, 'mem_pico_lib': 46.267578125}]\n"
          ]
        }
      ]
    },
    {
      "cell_type": "code",
      "source": [
        "import matplotlib.pyplot as plt\n",
        "\n",
        "# Dados fornecidos\n",
        "dados = [\n",
        "    {'tamanho': 1500, 'tempo_manual': 0.2908449210001436, 'mem_pico_manual': 105.7587890625, 'tempo_lib': 0.08997906999979932, 'mem_pico_lib': 69.7421875},\n",
        "    {'tamanho': 3000, 'tempo_manual': 0.568084810000073, 'mem_pico_manual': 211.2275390625, 'tempo_lib': 0.13898194900002636, 'mem_pico_lib': 1.625},\n",
        "    {'tamanho': 6000, 'tempo_manual': 1.1817625870000938, 'mem_pico_manual': 422.1650390625, 'tempo_lib': 0.2916615560000082, 'mem_pico_lib': 5.015625},\n",
        "    {'tamanho': 16000, 'tempo_manual': 3.170205424999949, 'mem_pico_manual': 1125.2900390625, 'tempo_lib': 1.1145129369999722, 'mem_pico_lib': 46.267578125}\n",
        "]\n",
        "\n",
        "# Extração dos dados\n",
        "tamanhos = [d['tamanho'] for d in dados]\n",
        "tempos_manual = [d['tempo_manual'] for d in dados]\n",
        "tempos_lib = [d['tempo_lib'] for d in dados]\n",
        "mem_manual = [d['mem_pico_manual'] for d in dados]\n",
        "mem_lib = [d['mem_pico_lib'] for d in dados]\n",
        "\n",
        "# Criação dos gráficos\n",
        "plt.figure(figsize=(14, 6))\n",
        "\n",
        "# Gráfico 1: Tempo de Execução\n",
        "plt.subplot(1, 2, 1)\n",
        "plt.plot(tamanhos, tempos_manual, 'o-', label='Manual', color='red')\n",
        "plt.plot(tamanhos, tempos_lib, 'o-', label='Biblioteca', color='blue')\n",
        "plt.title('Tamanho da Mensagem vs Tempo de Execução')\n",
        "plt.xlabel('Tamanho da Mensagem')\n",
        "plt.ylabel('Tempo (s)')\n",
        "plt.legend()\n",
        "plt.grid(True)\n",
        "\n",
        "# Gráfico 2: Pico de Memória\n",
        "plt.subplot(1, 2, 2)\n",
        "plt.plot(tamanhos, mem_manual, 'o-', label='Manual', color='red')\n",
        "plt.plot(tamanhos, mem_lib, 'o-', label='Biblioteca', color='blue')\n",
        "plt.title('Tamanho da Mensagem vs Pico de Memória')\n",
        "plt.xlabel('Tamanho da Mensagem')\n",
        "plt.ylabel('Pico de Memória (MB)')\n",
        "plt.legend()\n",
        "plt.grid(True)\n",
        "\n",
        "plt.tight_layout()\n",
        "plt.show()\n"
      ],
      "metadata": {
        "colab": {
          "base_uri": "https://localhost:8080/",
          "height": 545
        },
        "id": "dj-6otlwoqyW",
        "outputId": "30a7eb67-a4c1-4810-817f-72ec1dbef6a8"
      },
      "execution_count": 13,
      "outputs": [
        {
          "output_type": "display_data",
          "data": {
            "text/plain": [
              "<Figure size 1400x600 with 2 Axes>"
            ],
            "image/png": "[encoded data removed]"
          },
          "metadata": {}
        }
      ]
    },
    {
      "cell_type": "markdown",
      "source": [
        "Análise interpretativa dos resultados:\n",
        "\n",
        "A comparação mostra que a biblioteca é muito mais eficiente que a abordagem manual. O tempo de execução usando biblioteca foi sempre menor, mesmo com mensagens maiores. Além disso, o uso de memória foi drasticamente reduzido, especialmente em tamanhos como 3000 e 6000, onde a diferença foi enorme. A implementação manual parece desperdiçar recursos, talvez por estruturas mal otimizadas. Já a biblioteca usa algoritmos prontos e mais leves. No geral, a biblioteca teve melhor desempenho em todos os aspectos. Para aplicações reais, é claramente a melhor escolha."
      ],
      "metadata": {
        "id": "01kpK31YpDqc"
      }
    },
    {
      "cell_type": "markdown",
      "source": [
        "# Parte 4"
      ],
      "metadata": {
        "id": "C9PSwQF0pqgb"
      }
    },
    {
      "cell_type": "markdown",
      "source": [
        "a. Para \"Malu\" (achei meu nome muito grande), o site convertbinary.com retornou a seguinte string de bits, que servirão de entrada:\n",
        "\n",
        "01001101 01100001 01101100 01110101\n",
        "\n",
        "\n",
        "b. Como minha matrícula é 123110614, usarei o CRC-16/ARC, com meu gerador pessoal sendo 10001000000100001\n",
        "\n",
        "Para o cálculo do crc, temos:"
      ],
      "metadata": {
        "id": "FOfPQHefps3q"
      }
    },
    {
      "cell_type": "code",
      "source": [
        "\n",
        "mensagem_base = \"01001101011000010110110001110101\"\n",
        "gerador = \"10001000000100001\"\n",
        "\n",
        "crc = calcular_crc_manual(mensagem_base, gerador)\n",
        "print(crc)\n",
        ""
      ],
      "metadata": {
        "colab": {
          "base_uri": "https://localhost:8080/",
          "height": 0
        },
        "id": "Z2Sp4hgV3Dy7",
        "outputId": "611590f1-48a5-45eb-c4a9-379a1cc3d0c9"
      },
      "execution_count": 36,
      "outputs": [
        {
          "output_type": "stream",
          "name": "stdout",
          "text": [
            "1001101100110100\n"
          ]
        }
      ]
    },
    {
      "cell_type": "markdown",
      "source": [
        "Portanto:\n",
        "\n",
        "Mensagem: Malu\n",
        "\n",
        "Mensagem base: 01001101011000010110110001110101\n",
        "\n",
        "CRC: 1001101100110100\n"
      ],
      "metadata": {
        "id": "n8TbNTz98UuM"
      }
    },
    {
      "cell_type": "code",
      "source": [
        "def padrao_erro(pos, n_rajada, tamanho_quadro):\n",
        "  prefixo_zero = '0' * pos\n",
        "  rajada = '1' * n_rajada\n",
        "  sufixo_zero = '0' * (tamanho_quadro - (pos + n_rajada))\n",
        "  return prefixo_zero + rajada + sufixo_zero"
      ],
      "metadata": {
        "id": "EFWQyCiu8ZtJ"
      },
      "execution_count": 37,
      "outputs": []
    },
    {
      "cell_type": "code",
      "source": [
        "from crc import Calculator, Crc16\n",
        "\n",
        "mensagem_base = \"01001101011000010110110001110101\"\n",
        "crc = \"1001101100110100\"\n",
        "QUADRO_TRANSMITIDO = mensagem_base + crc\n",
        "calculator = Calculator(Crc16.MODBUS)\n",
        "\n",
        "#Erro na Posição 1, com rajada de 5 bits\n",
        "padrao_erro_1 = padrao_erro(0,5,len(QUADRO_TRANSMITIDO))\n",
        "QUADRO_CORROMPIDO_1 = xor_bits(QUADRO_TRANSMITIDO,padrao_erro_1)\n",
        "\n",
        "print(padrao_erro_1)\n",
        "\n",
        "print(\"TESTE 1: \")\n",
        "crc_man = calcular_crc_manual(QUADRO_CORROMPIDO_1, gerador)\n",
        "print(crc_man)\n",
        "\n",
        "corrompido_bytes = int(QUADRO_CORROMPIDO_1, 2).to_bytes(len(QUADRO_CORROMPIDO_1) // 8, byteorder='big')\n",
        "crc_lib = calculator.checksum(corrompido_bytes)\n",
        "print(crc_lib)"
      ],
      "metadata": {
        "colab": {
          "base_uri": "https://localhost:8080/",
          "height": 0
        },
        "id": "j6cc3wON8mVJ",
        "outputId": "d1a3ee92-51df-4828-c17a-de3b6ff47f45"
      },
      "execution_count": 38,
      "outputs": [
        {
          "output_type": "stream",
          "name": "stdout",
          "text": [
            "111110000000000000000000000000000000000000000000\n",
            "TESTE 1: \n",
            "1001110011111110\n",
            "56257\n"
          ]
        }
      ]
    },
    {
      "cell_type": "code",
      "source": [
        "from crc import Calculator, Crc16\n",
        "\n",
        "mensagem_base = \"01001101011000010110110001110101\"\n",
        "crc = \"1001101100110100\"\n",
        "QUADRO_TRANSMITIDO = mensagem_base + crc\n",
        "calculator = Calculator(Crc16.MODBUS)\n",
        "\n",
        "padrao_erro_1 = padrao_erro(1,10,len(QUADRO_TRANSMITIDO))\n",
        "QUADRO_CORROMPIDO_1 = xor_bits(QUADRO_TRANSMITIDO,padrao_erro_1)\n",
        "print(padrao_erro_1)\n",
        "\n",
        "print(\"TESTE 2: \")\n",
        "crc_man = calcular_crc_manual(QUADRO_CORROMPIDO_1, gerador)\n",
        "print(crc_man)\n",
        "\n",
        "corrompido_bytes = int(QUADRO_CORROMPIDO_1, 2).to_bytes(len(QUADRO_CORROMPIDO_1) // 8, byteorder='big')\n",
        "crc_lib = calculator.checksum(corrompido_bytes)\n",
        "print(crc_lib)\n",
        ""
      ],
      "metadata": {
        "colab": {
          "base_uri": "https://localhost:8080/",
          "height": 0
        },
        "id": "1m-9N7dE869x",
        "outputId": "f06dc2c9-036b-4bd5-e028-4dd80a07f8ad"
      },
      "execution_count": 39,
      "outputs": [
        {
          "output_type": "stream",
          "name": "stdout",
          "text": [
            "011111111110000000000000000000000000000000000000\n",
            "TESTE 2: \n",
            "1011101110010011\n",
            "31326\n"
          ]
        }
      ]
    },
    {
      "cell_type": "code",
      "source": [
        "from crc import Calculator, Crc16\n",
        "\n",
        "mensagem_base = \"01001101011000010110110001110101\"\n",
        "crc = \"1001101100110100\"\n",
        "QUADRO_TRANSMITIDO = mensagem_base + crc\n",
        "calculator = Calculator(Crc16.MODBUS)\n",
        "\n",
        "padrao_erro_1 = padrao_erro(6,15,len(QUADRO_TRANSMITIDO))\n",
        "QUADRO_CORROMPIDO_1 = xor_bits(QUADRO_TRANSMITIDO,padrao_erro_1)\n",
        "print(padrao_erro_1)\n",
        "\n",
        "print(\"TESTE 3: \")\n",
        "crc_man = calcular_crc_manual(QUADRO_CORROMPIDO_1, gerador)\n",
        "print(crc_man)\n",
        "\n",
        "corrompido_bytes = int(QUADRO_CORROMPIDO_1, 2).to_bytes(len(QUADRO_CORROMPIDO_1) // 8, byteorder='big')\n",
        "crc_lib = calculator.checksum(corrompido_bytes)\n",
        "print(crc_lib)"
      ],
      "metadata": {
        "colab": {
          "base_uri": "https://localhost:8080/",
          "height": 0
        },
        "id": "8rKyaY7d8_1m",
        "outputId": "fe9886c7-64b2-48b0-eb27-b84ba5c8b4b5"
      },
      "execution_count": 40,
      "outputs": [
        {
          "output_type": "stream",
          "name": "stdout",
          "text": [
            "000000111111111111111000000000000000000000000000\n",
            "TESTE 3: \n",
            "1000111011000001\n",
            "9457\n"
          ]
        }
      ]
    },
    {
      "cell_type": "code",
      "source": [
        "from crc import Calculator, Crc16\n",
        "\n",
        "mensagem_base = \"01001101011000010110110001110101\"\n",
        "crc = \"1001101100110100\"\n",
        "QUADRO_TRANSMITIDO = mensagem_base + crc\n",
        "calculator = Calculator(Crc16.MODBUS)\n",
        "\n",
        "padrao_erro_1 = padrao_erro(8,20,len(QUADRO_TRANSMITIDO))\n",
        "QUADRO_CORROMPIDO_1 = xor_bits(QUADRO_TRANSMITIDO,padrao_erro_1)\n",
        "print(padrao_erro_1)\n",
        "\n",
        "print(\"TESTE 4: \")\n",
        "crc_man = calcular_crc_manual(QUADRO_CORROMPIDO_1, gerador)\n",
        "print(crc_man)\n",
        "\n",
        "corrompido_bytes = int(QUADRO_CORROMPIDO_1, 2).to_bytes(len(QUADRO_CORROMPIDO_1) // 8, byteorder='big')\n",
        "crc_lib = calculator.checksum(corrompido_bytes)\n",
        "print(crc_lib)\n",
        ""
      ],
      "metadata": {
        "colab": {
          "base_uri": "https://localhost:8080/",
          "height": 0
        },
        "id": "pQ0ZzbmF9EYm",
        "outputId": "3b992a69-4113-476c-aa5d-2d218d3bf51b"
      },
      "execution_count": 41,
      "outputs": [
        {
          "output_type": "stream",
          "name": "stdout",
          "text": [
            "000000001111111111111111111100000000000000000000\n",
            "TESTE 4: \n",
            "1111001001011110\n",
            "20720\n"
          ]
        }
      ]
    },
    {
      "cell_type": "code",
      "source": [
        "from crc import Calculator, Crc16\n",
        "\n",
        "mensagem_base = \"01001101011000010110110001110101\"\n",
        "crc = \"1001101100110100\"\n",
        "QUADRO_TRANSMITIDO = mensagem_base + crc\n",
        "calculator = Calculator(Crc16.MODBUS)\n",
        "\n",
        "padrao_erro_1 = padrao_erro(11,28,len(QUADRO_TRANSMITIDO))\n",
        "QUADRO_CORROMPIDO_1 = xor_bits(QUADRO_TRANSMITIDO,padrao_erro_1)\n",
        "print(padrao_erro_1)\n",
        "\n",
        "print(\"TESTE 5: \")\n",
        "crc_man = calcular_crc_manual(QUADRO_CORROMPIDO_1, gerador)\n",
        "print(crc_man)\n",
        "\n",
        "corrompido_bytes = int(QUADRO_CORROMPIDO_1, 2).to_bytes(len(QUADRO_CORROMPIDO_1) // 8, byteorder='big')\n",
        "crc_lib = calculator.checksum(corrompido_bytes)\n",
        "print(crc_lib, \"\\n\")\n",
        ""
      ],
      "metadata": {
        "colab": {
          "base_uri": "https://localhost:8080/",
          "height": 0
        },
        "id": "cR_3nZGE9VZn",
        "outputId": "b66bde70-b46e-45d9-912f-517a019c1272"
      },
      "execution_count": 42,
      "outputs": [
        {
          "output_type": "stream",
          "name": "stdout",
          "text": [
            "000000000001111111111111111111111111111000000000\n",
            "TESTE 5: \n",
            "1101010110101101\n",
            "58625 \n",
            "\n"
          ]
        }
      ]
    },
    {
      "cell_type": "code",
      "source": [
        "from crc import Calculator, Crc16\n",
        "\n",
        "mensagem_base = \"01001101011000010110110001110101\"\n",
        "crc = \"1001101100110100\"\n",
        "QUADRO_TRANSMITIDO = mensagem_base + crc\n",
        "calculator = Calculator(Crc16.MODBUS)\n",
        "\n",
        "padrao_erro_1 = padrao_erro(9,22,len(QUADRO_TRANSMITIDO))\n",
        "QUADRO_CORROMPIDO_1 = xor_bits(QUADRO_TRANSMITIDO,padrao_erro_1)\n",
        "print(padrao_erro_1)\n",
        "\n",
        "print(\"TESTE 6: \")\n",
        "crc_man = calcular_crc_manual(QUADRO_CORROMPIDO_1, gerador)\n",
        "print(crc_man)\n",
        "\n",
        "corrompido_bytes = int(QUADRO_CORROMPIDO_1, 2).to_bytes(len(QUADRO_CORROMPIDO_1) // 8, byteorder='big')\n",
        "crc_lib = calculator.checksum(corrompido_bytes)\n",
        "print(crc_lib, \"\\n\")"
      ],
      "metadata": {
        "colab": {
          "base_uri": "https://localhost:8080/",
          "height": 0
        },
        "id": "xqQs4u5m9WGI",
        "outputId": "d42f4248-90b0-4512-d754-1ec19cbb2566"
      },
      "execution_count": 44,
      "outputs": [
        {
          "output_type": "stream",
          "name": "stdout",
          "text": [
            "000000000111111111111111111111100000000000000000\n",
            "TESTE 6: \n",
            "1100101110001111\n",
            "19856 \n",
            "\n"
          ]
        }
      ]
    },
    {
      "cell_type": "code",
      "source": [
        "from crc import Calculator, Crc16\n",
        "\n",
        "mensagem_base = \"01001101011000010110110001110101\"\n",
        "crc = \"1001101100110100\"\n",
        "QUADRO_TRANSMITIDO = mensagem_base + crc\n",
        "calculator = Calculator(Crc16.MODBUS)\n",
        "\n",
        "padrao_erro_1 = padrao_erro(18,30,len(QUADRO_TRANSMITIDO))\n",
        "QUADRO_CORROMPIDO_1 = xor_bits(QUADRO_TRANSMITIDO,padrao_erro_1)\n",
        "print(padrao_erro_1)\n",
        "\n",
        "print(\"TESTE 7: \")\n",
        "crc_man = calcular_crc_manual(QUADRO_CORROMPIDO_1, gerador)\n",
        "print(crc_man)\n",
        "\n",
        "corrompido_bytes = int(QUADRO_CORROMPIDO_1, 2).to_bytes(len(QUADRO_CORROMPIDO_1) // 8, byteorder='big')\n",
        "crc_lib = calculator.checksum(corrompido_bytes)\n",
        "print(crc_lib, \"\\n\")\n",
        ""
      ],
      "metadata": {
        "colab": {
          "base_uri": "https://localhost:8080/",
          "height": 0
        },
        "id": "g6vlFFFy9Zyq",
        "outputId": "fddf7916-0f2e-4dee-a270-422c82672977"
      },
      "execution_count": 45,
      "outputs": [
        {
          "output_type": "stream",
          "name": "stdout",
          "text": [
            "000000000000000000111111111111111111111111111111\n",
            "TESTE 7: \n",
            "0010101001101011\n",
            "63465 \n",
            "\n"
          ]
        }
      ]
    },
    {
      "cell_type": "code",
      "source": [
        "from crc import Calculator, Crc16\n",
        "\n",
        "mensagem_base = \"01001101011000010110110001110101\"\n",
        "crc = \"1001101100110100\"\n",
        "QUADRO_TRANSMITIDO = mensagem_base + crc\n",
        "calculator = Calculator(Crc16.MODBUS)\n",
        "\n",
        "padrao_erro_1 = padrao_erro(2,30,len(QUADRO_TRANSMITIDO))\n",
        "QUADRO_CORROMPIDO_1 = xor_bits(QUADRO_TRANSMITIDO,padrao_erro_1)\n",
        "print(padrao_erro_1)\n",
        "\n",
        "print(\"TESTE 8: \")\n",
        "crc_man = calcular_crc_manual(QUADRO_CORROMPIDO_1, gerador)\n",
        "print(crc_man)\n",
        "\n",
        "corrompido_bytes = int(QUADRO_CORROMPIDO_1, 2).to_bytes(len(QUADRO_CORROMPIDO_1) // 8, byteorder='big')\n",
        "crc_lib = calculator.checksum(corrompido_bytes)\n",
        "print(crc_lib, \"\\n\")"
      ],
      "metadata": {
        "colab": {
          "base_uri": "https://localhost:8080/",
          "height": 0
        },
        "id": "dXVI3BC99beg",
        "outputId": "f7c19f5e-3f9a-4d28-c18d-5c53591bd350"
      },
      "execution_count": 46,
      "outputs": [
        {
          "output_type": "stream",
          "name": "stdout",
          "text": [
            "001111111111111111111111111111110000000000000000\n",
            "TESTE 8: \n",
            "0011010011100000\n",
            "23749 \n",
            "\n"
          ]
        }
      ]
    },
    {
      "cell_type": "code",
      "source": [
        "from crc import Calculator, Crc16\n",
        "\n",
        "mensagem_base = \"01001101011000010110110001110101\"\n",
        "crc = \"1001101100110100\"\n",
        "QUADRO_TRANSMITIDO = mensagem_base + crc\n",
        "calculator = Calculator(Crc16.MODBUS)\n",
        "\n",
        "padrao_erro_1 = padrao_erro(4,19,len(QUADRO_TRANSMITIDO))\n",
        "QUADRO_CORROMPIDO_1 = xor_bits(QUADRO_TRANSMITIDO,padrao_erro_1)\n",
        "print(padrao_erro_1)\n",
        "\n",
        "print(\"TESTE 9: \")\n",
        "crc_man = calcular_crc_manual(QUADRO_CORROMPIDO_1, gerador)\n",
        "print(crc_man)\n",
        "\n",
        "corrompido_bytes = int(QUADRO_CORROMPIDO_1, 2).to_bytes(len(QUADRO_CORROMPIDO_1) // 8, byteorder='big')\n",
        "crc_lib = calculator.checksum(corrompido_bytes)\n",
        "print(crc_lib, \"\\n\")"
      ],
      "metadata": {
        "colab": {
          "base_uri": "https://localhost:8080/",
          "height": 0
        },
        "id": "gXQcOgdJ9df_",
        "outputId": "2a9120c2-5cfe-443c-f3c1-ce03b16602cc"
      },
      "execution_count": 47,
      "outputs": [
        {
          "output_type": "stream",
          "name": "stdout",
          "text": [
            "000011111111111111111110000000000000000000000000\n",
            "TESTE 9: \n",
            "1010001010111011\n",
            "24817 \n",
            "\n"
          ]
        }
      ]
    },
    {
      "cell_type": "code",
      "source": [
        "from crc import Calculator, Crc16\n",
        "\n",
        "mensagem_base = \"01001101011000010110110001110101\"\n",
        "crc = \"1001101100110100\"\n",
        "QUADRO_TRANSMITIDO = mensagem_base + crc\n",
        "calculator = Calculator(Crc16.MODBUS)\n",
        "\n",
        "padrao_erro_1 = padrao_erro(7,31,len(QUADRO_TRANSMITIDO))\n",
        "QUADRO_CORROMPIDO_1 = xor_bits(QUADRO_TRANSMITIDO,padrao_erro_1)\n",
        "print(padrao_erro_1)\n",
        "\n",
        "print(\"TESTE 10: \")\n",
        "crc_man = calcular_crc_manual(QUADRO_CORROMPIDO_1, gerador)\n",
        "print(crc_man)\n",
        "\n",
        "corrompido_bytes = int(QUADRO_CORROMPIDO_1, 2).to_bytes(len(QUADRO_CORROMPIDO_1) // 8, byteorder='big')\n",
        "crc_lib = calculator.checksum(corrompido_bytes)\n",
        "print(crc_lib, \"\\n\")"
      ],
      "metadata": {
        "colab": {
          "base_uri": "https://localhost:8080/",
          "height": 0
        },
        "id": "UplJk3Vv9e1J",
        "outputId": "aba0b5b2-dd58-4301-e97f-0116c6d56563"
      },
      "execution_count": 49,
      "outputs": [
        {
          "output_type": "stream",
          "name": "stdout",
          "text": [
            "000000011111111111111111111111111111110000000000\n",
            "TESTE 10: \n",
            "1100110101100011\n",
            "33408 \n",
            "\n"
          ]
        }
      ]
    },
    {
      "cell_type": "markdown",
      "source": [
        "Como ambas as implementações identificaram todos os erros, o  ponto cego não foi obtido.\n",
        "\n",
        "Conclusão: Os resultados mostram que todos os 10 testes foram detectados por ambas as implementações (manual e biblioteca). Isso indica que, para os padrões de erro gerados aleatoriamente, o CRC-16/ARC demonstrou excelente capacidade de detecção, pelo menos para mensagens base pequenas. Entranto, uma vez que passou em todos os testes não significa que é infalível!\n"
      ],
      "metadata": {
        "id": "NEFHU0U62u8j"
      }
    }
  ]
}